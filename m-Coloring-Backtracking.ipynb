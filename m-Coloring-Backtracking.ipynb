{
 "cells": [
  {
   "cell_type": "code",
   "execution_count": 1,
   "id": "f6e05585",
   "metadata": {},
   "outputs": [],
   "source": [
    "import random\n",
    "import numpy as np"
   ]
  },
  {
   "cell_type": "code",
   "execution_count": 2,
   "id": "4a6ff166",
   "metadata": {},
   "outputs": [
    {
     "name": "stdout",
     "output_type": "stream",
     "text": [
      "number of vertices: 4\n"
     ]
    }
   ],
   "source": [
    "#number of vertices\n",
    "n=int(input('number of vertices: '))\n",
    "graph = np.zeros((n,n),dtype=int)"
   ]
  },
  {
   "cell_type": "code",
   "execution_count": 3,
   "id": "f6d0ead2",
   "metadata": {},
   "outputs": [
    {
     "name": "stdout",
     "output_type": "stream",
     "text": [
      "number of edges if graph is completed :6\n"
     ]
    }
   ],
   "source": [
    "#number of edges if its complete \n",
    "MaxEdges=(n*(n-1))//2\n",
    "print(f'number of edges if graph is completed :{MaxEdges}')"
   ]
  },
  {
   "cell_type": "code",
   "execution_count": 4,
   "id": "e0bf79d2",
   "metadata": {},
   "outputs": [
    {
     "name": "stdout",
     "output_type": "stream",
     "text": [
      "number of edges 4: \n"
     ]
    }
   ],
   "source": [
    "#number of edges\n",
    "m=random.randint(0,(MaxEdges-1))\n",
    "print(f'number of edges {m}: ')"
   ]
  },
  {
   "cell_type": "code",
   "execution_count": 5,
   "id": "8f9533a7",
   "metadata": {},
   "outputs": [
    {
     "name": "stdout",
     "output_type": "stream",
     "text": [
      "[[0 0 1 1]\n",
      " [0 0 0 1]\n",
      " [1 0 0 1]\n",
      " [1 1 1 0]]\n"
     ]
    }
   ],
   "source": [
    "#create random graph\n",
    "r=0\n",
    "while r<m:\n",
    "    i=random.randint(0,(n-1))\n",
    "    j=random.randint(0,(n-1))\n",
    "    if i!=j:\n",
    "        if graph[i][j]==0:\n",
    "            graph[i][j]=1\n",
    "            graph[j][i]=1\n",
    "            r=r+1   \n",
    "print(graph)"
   ]
  },
  {
   "cell_type": "code",
   "execution_count": 6,
   "id": "16150ae4",
   "metadata": {},
   "outputs": [
    {
     "name": "stdout",
     "output_type": "stream",
     "text": [
      "number of colors: 3\n"
     ]
    }
   ],
   "source": [
    "#number of colors\n",
    "NumColors=int(input('number of colors: '))\n",
    "#Nodes coloring\n",
    "Nodes = [-1 for i in range(n)]"
   ]
  },
  {
   "cell_type": "code",
   "execution_count": 7,
   "id": "c3e88d5e",
   "metadata": {},
   "outputs": [],
   "source": [
    "ForwardFiltering=[[i for i in range(NumColors)] for i in range(n)]"
   ]
  },
  {
   "cell_type": "code",
   "execution_count": 8,
   "id": "f781302b",
   "metadata": {},
   "outputs": [],
   "source": [
    "def Forward_Filtering(node,color):\n",
    "    for j in range(n):#loop between neighbors\n",
    "        if graph[node][j]==1:#check if they are connected\n",
    "            if color in  ForwardFiltering[j]:\n",
    "                ForwardFiltering[j].remove(color)"
   ]
  },
  {
   "cell_type": "code",
   "execution_count": 9,
   "id": "86aa43d0",
   "metadata": {},
   "outputs": [],
   "source": [
    "def ConstraintCheck(node,color):\n",
    "    for j in range(n):#loop between neighbors\n",
    "        if graph[node][j]==1:#check if they are connected\n",
    "            if Nodes[j]==color:#check if they are same color\n",
    "                return False\n",
    "    return True"
   ]
  },
  {
   "cell_type": "code",
   "execution_count": 10,
   "id": "3fb0937b",
   "metadata": {},
   "outputs": [],
   "source": [
    "def SolveBackTracking(node):\n",
    "#base \n",
    "    if node==n:\n",
    "        return True\n",
    "#check constration and backtracking\n",
    "    for color in range(NumColors):#loop between colors\n",
    "        if(ConstraintCheck(node,color)):\n",
    "            Forward_Filtering(node,color)\n",
    "            Nodes[node]=color\n",
    "            print(Nodes)\n",
    "            SolveBackTracking(node+1)\n",
    "#check for forward filtering\n",
    "    for i in ForwardFiltering:\n",
    "        if len(i)==0:\n",
    "            return False"
   ]
  },
  {
   "cell_type": "code",
   "execution_count": 11,
   "id": "7fce4d9f",
   "metadata": {},
   "outputs": [
    {
     "name": "stdout",
     "output_type": "stream",
     "text": [
      "[0, -1, -1, -1]\n",
      "[0, 0, -1, -1]\n",
      "[0, 0, 1, -1]\n",
      "[0, 0, 1, 2]\n",
      "[0, 1, 1, 2]\n",
      "[0, 1, 1, 2]\n",
      "[0, 1, 1, 2]\n",
      "Can color this graph with this number of colors and assigned colors:\n",
      "Node 0 th is colored by color number 0\n",
      "Node 1 th is colored by color number 1\n",
      "Node 2 th is colored by color number 1\n",
      "Node 3 th is colored by color number 2\n"
     ]
    }
   ],
   "source": [
    "if SolveBackTracking(0)==False:\n",
    "    print('Can not color this graph with this number of colors')\n",
    "else:\n",
    "    print('Can color this graph with this number of colors and assigned colors:')\n",
    "    for i in range(len(Nodes)):\n",
    "        print(f'Node {i} th is colored by color number {Nodes[i]}')"
   ]
  }
 ],
 "metadata": {
  "kernelspec": {
   "display_name": "Python 3 (ipykernel)",
   "language": "python",
   "name": "python3"
  },
  "language_info": {
   "codemirror_mode": {
    "name": "ipython",
    "version": 3
   },
   "file_extension": ".py",
   "mimetype": "text/x-python",
   "name": "python",
   "nbconvert_exporter": "python",
   "pygments_lexer": "ipython3",
   "version": "3.9.13"
  }
 },
 "nbformat": 4,
 "nbformat_minor": 5
}
